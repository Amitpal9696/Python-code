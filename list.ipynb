{
 "cells": [
  {
   "cell_type": "code",
   "execution_count": 2,
   "metadata": {},
   "outputs": [
    {
     "name": "stdout",
     "output_type": "stream",
     "text": [
      "['chrome', 'photos', 'zometo', 'drive', 'instagram', 'facebook', 'whatsaap', 'snapchat']\n"
     ]
    }
   ],
   "source": [
    "apps=['chrome','photos','zometo','drive','instagram','facebook','whatsaap','snapchat']\n",
    "print(apps)"
   ]
  },
  {
   "cell_type": "code",
   "execution_count": 5,
   "metadata": {},
   "outputs": [
    {
     "name": "stdout",
     "output_type": "stream",
     "text": [
      "facebook\n",
      "zometo\n"
     ]
    }
   ],
   "source": [
    "print(apps[5])\n",
    "print(apps[-6])"
   ]
  },
  {
   "cell_type": "code",
   "execution_count": 11,
   "metadata": {},
   "outputs": [
    {
     "name": "stdout",
     "output_type": "stream",
     "text": [
      "['chrome', 'photos', 'zometo', 'drive']\n",
      "['chrome', 'zometo', 'instagram', 'whatsaap']\n",
      "['chrome', 'photos', 'zometo', 'drive', 'instagram']\n",
      "['chrome', 'zometo', 'instagram', 'whatsaap']\n"
     ]
    }
   ],
   "source": [
    "print(apps[0:-4])\n",
    "print(apps[0:8:2])\n",
    "print(apps[:5])\n",
    "print(apps[: :2])"
   ]
  },
  {
   "cell_type": "code",
   "execution_count": 12,
   "metadata": {},
   "outputs": [
    {
     "name": "stdout",
     "output_type": "stream",
     "text": [
      "['chrome', 'photos', 'zometo', 'drive', 'instagram', 'facebook', 'whatsaap', 'snapchat']\n"
     ]
    }
   ],
   "source": [
    "print(apps)"
   ]
  },
  {
   "cell_type": "code",
   "execution_count": 13,
   "metadata": {},
   "outputs": [
    {
     "name": "stdout",
     "output_type": "stream",
     "text": [
      "['chrome', 'photos', 'zometo', 'drive', 'instagram', 'facebook', 'whatsaap', 'snapchat', 'tinder']\n"
     ]
    }
   ],
   "source": [
    "apps.append('tinder')\n",
    "print(apps)"
   ]
  },
  {
   "cell_type": "code",
   "execution_count": 15,
   "metadata": {},
   "outputs": [
    {
     "name": "stdout",
     "output_type": "stream",
     "text": [
      "['chrome', 'photos', 'tinder', 'tinder', 'zometo', 'drive', 'instagram', 'facebook', 'whatsaap', 'snapchat', 'tinder']\n"
     ]
    }
   ],
   "source": [
    "apps.insert(2, 'tinder')\n",
    "print(apps)"
   ]
  },
  {
   "cell_type": "code",
   "execution_count": 16,
   "metadata": {},
   "outputs": [
    {
     "name": "stdout",
     "output_type": "stream",
     "text": [
      "['chrome', 'photos', 'tinder', 'tinder', 'zometo', 'instagram', 'facebook', 'whatsaap', 'snapchat', 'tinder']\n"
     ]
    }
   ],
   "source": [
    "apps.pop(5)\n",
    "print(apps)"
   ]
  },
  {
   "cell_type": "code",
   "execution_count": 17,
   "metadata": {},
   "outputs": [
    {
     "name": "stdout",
     "output_type": "stream",
     "text": [
      "['chrome', 'photos', 'tinder', 'tinder', 'zometo', 'instagram', 'whatsaap', 'snapchat', 'tinder']\n"
     ]
    }
   ],
   "source": [
    "apps.remove('facebook')\n",
    "print(apps)"
   ]
  },
  {
   "cell_type": "code",
   "execution_count": 18,
   "metadata": {},
   "outputs": [
    {
     "name": "stdout",
     "output_type": "stream",
     "text": [
      "['chrome', 'instagram', 'photos', 'snapchat', 'tinder', 'tinder', 'tinder', 'whatsaap', 'zometo']\n"
     ]
    }
   ],
   "source": [
    "apps.sort()\n",
    "print(apps)"
   ]
  },
  {
   "cell_type": "code",
   "execution_count": 19,
   "metadata": {},
   "outputs": [
    {
     "name": "stdout",
     "output_type": "stream",
     "text": [
      "['chrome', 'instagram', 'photos', 'snapchat', 'tinder', 'tinder', 'tinder', 'whatsaap', 'zometo']\n"
     ]
    }
   ],
   "source": [
    "apps2 = apps.copy()\n",
    "print(apps2)"
   ]
  },
  {
   "cell_type": "code",
   "execution_count": 20,
   "metadata": {},
   "outputs": [
    {
     "name": "stdout",
     "output_type": "stream",
     "text": [
      "[]\n"
     ]
    }
   ],
   "source": [
    "apps.clear()\n",
    "print(apps)"
   ]
  },
  {
   "cell_type": "code",
   "execution_count": 5,
   "metadata": {},
   "outputs": [
    {
     "name": "stdout",
     "output_type": "stream",
     "text": [
      "['camera', 'phone', 'maps', 'camera', 'phone', 'maps', 'camera', 'phone', 'maps', 'camera', 'phone', 'maps']\n"
     ]
    }
   ],
   "source": [
    "apps3=['camera','phone','maps']\n",
    "apps2.extend(apps3)\n",
    "print(apps2)"
   ]
  },
  {
   "cell_type": "code",
   "execution_count": 3,
   "metadata": {},
   "outputs": [
    {
     "name": "stdout",
     "output_type": "stream",
     "text": [
      "['camera', 'phone', 'maps']\n"
     ]
    }
   ],
   "source": [
    "apps2=['camera','phone','maps']\n",
    "apps2.extend(apps3)\n",
    "print(apps3)"
   ]
  },
  {
   "cell_type": "code",
   "execution_count": 7,
   "metadata": {},
   "outputs": [
    {
     "name": "stdout",
     "output_type": "stream",
     "text": [
      "['camera', 'phone', 'maps', 'camera', 'phone', 'maps', 'camera', 'phone', 'maps', 'camera', 'phone', 'maps', 'grap', 'camera', 'maps', 'grap', 'camera', 'maps']\n"
     ]
    }
   ],
   "source": [
    "apps3 = ['grap','camera','maps']\n",
    "apps2.extend(apps3)\n",
    "print(apps2)"
   ]
  },
  {
   "cell_type": "code",
   "execution_count": 4,
   "metadata": {},
   "outputs": [
    {
     "name": "stdout",
     "output_type": "stream",
     "text": [
      "10 3\n",
      "20 4\n",
      "30 50\n",
      "40 44\n",
      "50 1\n",
      "10 3\n",
      "20 4\n",
      "30 50\n",
      "40 44\n",
      "50 1\n"
     ]
    }
   ],
   "source": [
    "l=[10,20,30,40,50]\n",
    "l1=[3,4,50,44,1]\n",
    "t=len(l)\n",
    "for a,b in zip(l,l1):\n",
    "    print(a,b)\n",
    "for h in range(t):\n",
    "    print(l[h],l1[h])"
   ]
  },
  {
   "cell_type": "markdown",
   "metadata": {},
   "source": [
    "# - program to convert string to a list"
   ]
  },
  {
   "cell_type": "code",
   "execution_count": 12,
   "metadata": {},
   "outputs": [
    {
     "name": "stdout",
     "output_type": "stream",
     "text": [
      "['amit ', 'kumar', 'pal']\n"
     ]
    }
   ],
   "source": [
    "# \n",
    "l=[]\n",
    "for a in range(1,4):\n",
    "    n=input(\"enter the value\"+str(a)+\":-\")\n",
    "    l.append(n)\n",
    "print(l)\n"
   ]
  },
  {
   "cell_type": "markdown",
   "metadata": {},
   "source": [
    "# -impliment a stack and Queue  using a list data type"
   ]
  },
  {
   "cell_type": "code",
   "execution_count": 20,
   "metadata": {},
   "outputs": [
    {
     "ename": "ValueError",
     "evalue": "invalid literal for int() with base 10: ''",
     "output_type": "error",
     "traceback": [
      "\u001b[1;31m---------------------------------------------------------------------------\u001b[0m",
      "\u001b[1;31mValueError\u001b[0m                                Traceback (most recent call last)",
      "Cell \u001b[1;32mIn[20], line 3\u001b[0m\n\u001b[0;32m      1\u001b[0m l\u001b[38;5;241m=\u001b[39m[]\n\u001b[0;32m      2\u001b[0m \u001b[38;5;28;01mwhile\u001b[39;00m \u001b[38;5;28;01mTrue\u001b[39;00m:\n\u001b[1;32m----> 3\u001b[0m     c\u001b[38;5;241m=\u001b[39m\u001b[38;5;28mint\u001b[39m(\u001b[38;5;28minput\u001b[39m(\u001b[38;5;124m'''\u001b[39m\n\u001b[0;32m      4\u001b[0m \u001b[38;5;124m    1 push element\u001b[39m\n\u001b[0;32m      5\u001b[0m \u001b[38;5;124m    2 pop element\u001b[39m\n\u001b[0;32m      6\u001b[0m \u001b[38;5;124m    3 peek elemnet\u001b[39m\n\u001b[0;32m      7\u001b[0m \u001b[38;5;124m    4 display stack \u001b[39m\n\u001b[0;32m      8\u001b[0m \u001b[38;5;124m    5 exit\u001b[39m\n\u001b[0;32m      9\u001b[0m \u001b[38;5;124m    \u001b[39m\n\u001b[0;32m     10\u001b[0m \u001b[38;5;124m    \u001b[39m\u001b[38;5;124m'''\u001b[39m))\n\u001b[0;32m     11\u001b[0m \u001b[38;5;28;01mif\u001b[39;00m c\u001b[38;5;241m==\u001b[39m\u001b[38;5;241m1\u001b[39m:\n\u001b[0;32m     12\u001b[0m     n\u001b[38;5;241m=\u001b[39m\u001b[38;5;28minput\u001b[39m(\u001b[38;5;124m\"\u001b[39m\u001b[38;5;124menter the value\u001b[39m\u001b[38;5;124m\"\u001b[39m);\n",
      "\u001b[1;31mValueError\u001b[0m: invalid literal for int() with base 10: ''"
     ]
    }
   ],
   "source": [
    "l=[]\n",
    "while True:\n",
    "    c=int(input('''\n",
    "    1 push element\n",
    "    2 pop element\n",
    "    3 peek elemnet\n",
    "    4 display stack \n",
    "    5 exit\n",
    "    \n",
    "    '''))\n",
    "if c==1:\n",
    "    n=input(\"enter the value\");\n",
    "    l.append(n)\n",
    "    print(l)\n",
    "elif c==2:\n",
    "    if len(l)==0:\n",
    "        print(\"empty stack\")\n",
    "    else:\n",
    "        p=l.pop()\n",
    "        print(p)\n",
    "        print(l)\n",
    "elif c==3:\n",
    "    if len(l)==0:\n",
    "        print(\"empty stack\")\n",
    "    else:\n",
    "        print(\"last stack value\",l[-1])\n",
    "elif c==4:\n",
    "    print(\"display stack\",l)\n",
    "elif c==5:\n",
    "    break;"
   ]
  },
  {
   "cell_type": "code",
   "execution_count": 10,
   "metadata": {},
   "outputs": [
    {
     "name": "stdout",
     "output_type": "stream",
     "text": [
      "[1, 2, 3, 'hello']\n"
     ]
    }
   ],
   "source": [
    "list = [1,2,3,'hello']\n",
    "print(list)"
   ]
  },
  {
   "cell_type": "code",
   "execution_count": 11,
   "metadata": {},
   "outputs": [
    {
     "name": "stdout",
     "output_type": "stream",
     "text": [
      "4\n",
      "16\n",
      "36\n",
      "64\n",
      "100\n"
     ]
    }
   ],
   "source": [
    "a=[2,4,6,8,10]\n",
    "for i in a:\n",
    "    print(i**2)"
   ]
  },
  {
   "cell_type": "code",
   "execution_count": 6,
   "metadata": {},
   "outputs": [
    {
     "name": "stdout",
     "output_type": "stream",
     "text": [
      "[4, 16, 36, 64, 100]\n"
     ]
    }
   ],
   "source": [
    "a=[2,4,6,8,10]\n",
    "lst=[]\n",
    "for i in a:\n",
    "    lst.append(i**2)\n",
    "print(lst)"
   ]
  },
  {
   "cell_type": "code",
   "execution_count": 7,
   "metadata": {},
   "outputs": [
    {
     "name": "stdout",
     "output_type": "stream",
     "text": [
      "[4, 16, 36, 64, 100]\n"
     ]
    }
   ],
   "source": [
    "num=[2,4,6,8,10]\n",
    "square=[i**2 for i in num]\n",
    "print(square)"
   ]
  },
  {
   "cell_type": "code",
   "execution_count": 9,
   "metadata": {},
   "outputs": [
    {
     "name": "stdout",
     "output_type": "stream",
     "text": [
      "[2, 4, 6, 10, 30, 50, 60]\n"
     ]
    }
   ],
   "source": [
    "x=[1,2,3,4,5,6,10,25,30,50,60,15]\n",
    "even_nums = [num for num in x if num%2==0]\n",
    "print(even_nums)"
   ]
  },
  {
   "cell_type": "code",
   "execution_count": 32,
   "metadata": {},
   "outputs": [
    {
     "name": "stdout",
     "output_type": "stream",
     "text": [
      "['apple', 'banana', 'oranger', 'graps']\n"
     ]
    }
   ],
   "source": [
    "fuirts=['apple','banana','oranger','graps']\n",
    "lst=[]\n",
    "lst = [lst for lst in fuirts if fuirts==6]\n",
    "print(fuirts)"
   ]
  },
  {
   "cell_type": "code",
   "execution_count": 33,
   "metadata": {},
   "outputs": [
    {
     "name": "stdout",
     "output_type": "stream",
     "text": [
      "['HELLO', 'MY', 'NAME', 'IS', 'AMIT']\n"
     ]
    }
   ],
   "source": [
    "word=['hello','my','name','is','amit']\n",
    "lst=[i.upper()for i in word ]\n",
    "print(lst)"
   ]
  },
  {
   "cell_type": "code",
   "execution_count": null,
   "metadata": {},
   "outputs": [],
   "source": []
  }
 ],
 "metadata": {
  "kernelspec": {
   "display_name": "base",
   "language": "python",
   "name": "python3"
  },
  "language_info": {
   "codemirror_mode": {
    "name": "ipython",
    "version": 3
   },
   "file_extension": ".py",
   "mimetype": "text/x-python",
   "name": "python",
   "nbconvert_exporter": "python",
   "pygments_lexer": "ipython3",
   "version": "3.12.4"
  }
 },
 "nbformat": 4,
 "nbformat_minor": 2
}
